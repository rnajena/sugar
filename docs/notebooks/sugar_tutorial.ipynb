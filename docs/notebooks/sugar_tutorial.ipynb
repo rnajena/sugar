{
 "cells": [
  {
   "cell_type": "markdown",
   "id": "766054f2-0143-4eaf-9e09-46094f5eb3db",
   "metadata": {},
   "source": [
    "# Sugar Basic Tutorial\n",
    "\n",
    "### BioBasket and BioSeq objects\n",
    "\n",
    "You can read sequences with the `read()` function. The format can be automatically detected or specified. Currently, sugar has read and write support for fasta, stockholm, and a custom json format. Read support is provided for genbank format. Glob expressions and web resources can also be used. Additionally, all files readable by biopython can be read with the call `read(filename, fmt, tool='biopython')`. Calling `read()` without an argument returns example sequences."
   ]
  },
  {
   "cell_type": "code",
   "execution_count": 1,
   "id": "67e58a83-a002-458a-909b-0ea3661c14c7",
   "metadata": {},
   "outputs": [
    {
     "name": "stdout",
     "output_type": "stream",
     "text": [
      "2 seqs in basket\n",
      "AB047639  9678  ACCTGCCCCTAATAGGGGCGACACTCCGCCATGAATCACTCCCCTGTGA...  GC:58.26%\n",
      "AB677533  9471  GCCCGCCCCCTGATGGGGGCGACACTCCGCCATGAATCACTCCCCTGTG...  GC:57.46%\n",
      "  customize output with BioBasket.tostr() method\n"
     ]
    }
   ],
   "source": [
    "from sugar import read\n",
    "seqs = read()\n",
    "print(seqs)"
   ]
  },
  {
   "cell_type": "markdown",
   "id": "cc87e1cc-af27-4118-98ea-c03512695b3d",
   "metadata": {},
   "source": [
    "Sequences are stored in the `BioBasket` object. The `BioBasket` object behaves like a list, where each item is a single sequence. It also has some useful biomethods attached to it. You can write out sequences using the `write()` method. The format can be automatically detected based on the file extension. Sequences are stored in `BioSeq` objects, which behave like `str`, but again with some biomethods attached. Metadata is stored in the `meta` attribute."
   ]
  },
  {
   "cell_type": "code",
   "execution_count": 2,
   "id": "19b12eda-e72a-42a9-af9c-f09994ca88ec",
   "metadata": {},
   "outputs": [
    {
     "name": "stdout",
     "output_type": "stream",
     "text": [
      "Ids ['AB047639', 'AB677533']\n",
      "First sequence AB047639 starts with ACCTGCCCCT.\n",
      "\n",
      "Metadata:\n",
      "      id: AB047639\n",
      "    _fmt: genbank\n",
      "_genbank: Attr(locus='AB047639, 9678, bp, RNA, linear, VRL, 12-NOV-2005', def...\n",
      "features:\n",
      "source   0+ 9_678  seqid=AB047639;_genbank=Attr(organism='Hepatitis C virus J...\n",
      "   CDS 340+ 9_102  seqid=AB047639;_genbank=Attr(codon_start=1, product='polyp...\n",
      "\n",
      "Metadata can be accessed with keys or as attributes: AB047639 AB047639\n"
     ]
    }
   ],
   "source": [
    "print('Ids', seqs.ids)\n",
    "seq1 = seqs[0]\n",
    "seq2 = seqs.d['AB677533']  # Select sequence by id\n",
    "print(f'First sequence {seq1.id} starts with {seq1[:10]}.')\n",
    "print(f'\\nMetadata:\\n{seq1.meta}')\n",
    "print('\\nMetadata can be accessed with keys or as attributes:', seq1.meta.id, seq1.meta['id'])"
   ]
  },
  {
   "cell_type": "markdown",
   "id": "12203a1d-031e-480e-bf1e-4541760ccf4c",
   "metadata": {},
   "source": [
    "There are shortcuts for id and feature metadata: `seq1.id` and `seq1.fts`. You can get the first features of a given type using the `get()` method, select all fitting features with the `select()` method, e.g. `seq1.fts.select('cds')`. The `__getitem__` function is overloaded, so you can do things like `seqs[:, 10:20]`, `seq1['cds']`. Translation can be done with the `translate()` method."
   ]
  },
  {
   "cell_type": "code",
   "execution_count": 3,
   "id": "31071117-c15c-405e-b238-56f2e52e4b19",
   "metadata": {},
   "outputs": [
    {
     "name": "stdout",
     "output_type": "stream",
     "text": [
      "2 seqs in basket\n",
      "AB047639  3033  MSTNPKPQRKTKRNTNRRPEDVKFPGGGQIVGGVYLLPRRGPRLGVRTTRKTSERSQPRG...\n",
      "AB677533  3014  MSTNPKPQRKTKRNTNRRPQDVKFPGGGQIVGGVYLLPRRGPRLGVRATRKTSERSQPRG...\n",
      "  customize output with BioBasket.tostr() method\n"
     ]
    }
   ],
   "source": [
    "print(seqs[:, 'cds'].translate())"
   ]
  },
  {
   "cell_type": "markdown",
   "id": "fbb50c37-c689-44e2-b247-4362bf527501",
   "metadata": {},
   "source": [
    "Other things to discover:\n",
    "* The `sugar.web` module provides a simple Entrez client.\n",
    "* The `sugar.data` module provides scoring matrices and translation tables.\n",
    "* The `sugar` command provides some useful CLI tools. Run the tests with `sugar test`.\n",
    "* You can convert a `BioBasket` object into the equivalent biopython object and vice versa. We plan to add support for other bio modules."
   ]
  },
  {
   "cell_type": "code",
   "execution_count": 4,
   "id": "11be3dd9-eed9-4dd2-81a1-ecf8b89b9418",
   "metadata": {},
   "outputs": [],
   "source": [
    "from sugar.web import Entrez\n",
    "client = Entrez()\n",
    "seq = client.get_seq('AB677533')\n",
    "\n",
    "from sugar.data import submat\n",
    "sm = submat('blosum62')"
   ]
  }
 ],
 "metadata": {
  "kernelspec": {
   "display_name": "Python 3 (ipykernel)",
   "language": "python",
   "name": "python3"
  },
  "language_info": {
   "codemirror_mode": {
    "name": "ipython",
    "version": 3
   },
   "file_extension": ".py",
   "mimetype": "text/x-python",
   "name": "python",
   "nbconvert_exporter": "python",
   "pygments_lexer": "ipython3",
   "version": "3.11.6"
  }
 },
 "nbformat": 4,
 "nbformat_minor": 5
}
